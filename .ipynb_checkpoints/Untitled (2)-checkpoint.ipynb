{
 "cells": [
  {
   "cell_type": "code",
   "execution_count": 1,
   "id": "942e9bbb",
   "metadata": {},
   "outputs": [
    {
     "data": {
      "text/plain": [
       "Index(['city', 'activity', 'rating', 'price', 'link', 'image_url',\n",
       "       'location\\r', 'description'],\n",
       "      dtype='object')"
      ]
     },
     "execution_count": 1,
     "metadata": {},
     "output_type": "execute_result"
    }
   ],
   "source": [
    "import pandas as pd\n",
    "from sklearn.feature_extraction.text import TfidfVectorizer\n",
    "from sklearn.metrics.pairwise import linear_kernel\n",
    "from sklearn.model_selection import train_test_split\n",
    "from sklearn.ensemble import RandomForestClassifier\n",
    "from sklearn.metrics import accuracy_score\n",
    "from sklearn.metrics.pairwise import cosine_similarity\n",
    "\n",
    "# Step 1: Load and preprocess the dataset\n",
    "df = pd.read_csv(\"dataset.csv\")\n",
    "\n",
    "df.columns"
   ]
  },
  {
   "cell_type": "code",
   "execution_count": 2,
   "id": "b708d925",
   "metadata": {},
   "outputs": [],
   "source": [
    "# # Vectorize the text data\n",
    "# vectorizer = TfidfVectorizer(stop_words='english')\n",
    "# tfidf_matrix = vectorizer.fit_transform(df['description'])\n",
    "\n",
    "# # Function to recommend activities based on user input\n",
    "# def recommend_activities(user_input, top_n=5):\n",
    "#     # Vectorize user input\n",
    "#     user_tfidf = vectorizer.transform([user_input])\n",
    "\n",
    "#     # Compute similarity between user input and activities\n",
    "#     similarity_scores = cosine_similarity(user_tfidf, tfidf_matrix)\n",
    "\n",
    "#     # Get indices of top recommended activities\n",
    "#     top_indices = similarity_scores.argsort(axis=1)[:, ::-1][:, :top_n]\n",
    "\n",
    "#     # Extract recommended activities\n",
    "#     recommendations = []\n",
    "#     for indices in top_indices:\n",
    "#         recommendations.extend(df.loc[indices, 'activity'].values.tolist())\n",
    "\n",
    "#     return recommendations\n",
    "\n",
    "# # Example user input\n",
    "# user_input = \"I want to explore iconic landmarks in New York City\"\n",
    "\n",
    "# # Get recommendations based on user input\n",
    "# recommended_activities = recommend_activities(user_input)\n",
    "\n",
    "# # Display top 5 recommended activities\n",
    "# print(\"Top 5 recommended activities based on your interests:\")\n",
    "# for i, activity in enumerate(recommended_activities[:5], 1):\n",
    "#     print(f\"{i}. {activity}\")"
   ]
  },
  {
   "cell_type": "code",
   "execution_count": null,
   "id": "87ac2359",
   "metadata": {},
   "outputs": [],
   "source": [
    "# Vectorize the text data\n",
    "vectorizer = TfidfVectorizer(stop_words='english')\n",
    "tfidf_matrix = vectorizer.fit_transform(df['description'])\n",
    "\n",
    "# Split data into train and test sets\n",
    "X_train, X_test, y_train, y_test = train_test_split(tfidf_matrix, df['activity'], test_size=0.2, random_state=42)\n",
    "\n",
    "# Train Random Forest Classifier\n",
    "rf_classifier = RandomForestClassifier(n_estimators=100, random_state=42)\n",
    "rf_classifier.fit(X_train, y_train)\n",
    "\n",
    "# Train Support Vector Machine Classifier\n",
    "svm_classifier = SVC(kernel='linear', C=1.0, random_state=42)\n",
    "svm_classifier.fit(X_train, y_train)"
   ]
  },
  {
   "cell_type": "code",
   "execution_count": null,
   "id": "abf40289",
   "metadata": {},
   "outputs": [],
   "source": [
    "# Function to recommend activities based on user input using trained models\n",
    "def recommend_activities(user_input, top_n=5):\n",
    "    # Vectorize user input\n",
    "    user_tfidf = vectorizer.transform([user_input])\n",
    "\n",
    "    # Predict using trained models\n",
    "    rf_predictions = rf_classifier.predict(user_tfidf)\n",
    "    svm_predictions = svm_classifier.predict(user_tfidf)\n",
    "\n",
    "    # Combine predictions from both models\n",
    "    combined_predictions = list(set(rf_predictions.tolist() + svm_predictions.tolist()))\n",
    "\n",
    "    return combined_predictions[:top_n]"
   ]
  },
  {
   "cell_type": "code",
   "execution_count": null,
   "id": "275688e2",
   "metadata": {},
   "outputs": [],
   "source": [
    "# Example user input\n",
    "user_input = \"iconic landmarks in New York City\"\n",
    "\n",
    "# Get recommendations based on user input\n",
    "recommended_activities = recommend_activities(user_input)\n",
    "\n",
    "# Display top recommended activities\n",
    "print(\"Top recommended activities based on your interests:\")\n",
    "for i, activity in enumerate(recommended_activities, 1):\n",
    "    print(f\"{i}. {activity}\")"
   ]
  },
  {
   "cell_type": "code",
   "execution_count": null,
   "id": "4b2e86d8",
   "metadata": {},
   "outputs": [],
   "source": [
    "# Evaluate models\n",
    "rf_predictions_test = rf_classifier.predict(X_test)\n",
    "svm_predictions_test = svm_classifier.predict(X_test)\n",
    "\n",
    "print(\"\\nRandom Forest Classifier Evaluation:\")\n",
    "print(classification_report(y_test, rf_predictions_test))\n",
    "\n",
    "print(\"\\nSupport Vector Machine Classifier Evaluation:\")\n",
    "print(classification_report(y_test, svm_predictions_test))"
   ]
  },
  {
   "cell_type": "code",
   "execution_count": null,
   "id": "ff947119",
   "metadata": {},
   "outputs": [],
   "source": []
  }
 ],
 "metadata": {
  "kernelspec": {
   "display_name": "Python 3 (ipykernel)",
   "language": "python",
   "name": "python3"
  },
  "language_info": {
   "codemirror_mode": {
    "name": "ipython",
    "version": 3
   },
   "file_extension": ".py",
   "mimetype": "text/x-python",
   "name": "python",
   "nbconvert_exporter": "python",
   "pygments_lexer": "ipython3",
   "version": "3.11.5"
  }
 },
 "nbformat": 4,
 "nbformat_minor": 5
}
